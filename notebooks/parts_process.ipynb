{
 "cells": [
  {
   "cell_type": "code",
   "execution_count": 1,
   "metadata": {},
   "outputs": [
    {
     "name": "stderr",
     "output_type": "stream",
     "text": [
      "── Attaching packages ─────────────────────────────────────── tidyverse 1.2.1 ──\n",
      "✔ ggplot2 3.1.0       ✔ purrr   0.3.1  \n",
      "✔ tibble  2.0.1       ✔ dplyr   0.8.0.1\n",
      "✔ tidyr   0.8.2       ✔ stringr 1.3.1  \n",
      "✔ readr   1.3.1       ✔ forcats 0.3.0  \n",
      "── Conflicts ────────────────────────────────────────── tidyverse_conflicts() ──\n",
      "✖ dplyr::filter() masks stats::filter()\n",
      "✖ dplyr::lag()    masks stats::lag()\n"
     ]
    }
   ],
   "source": [
    "library(tidyverse)"
   ]
  },
  {
   "cell_type": "code",
   "execution_count": 6,
   "metadata": {},
   "outputs": [
    {
     "name": "stderr",
     "output_type": "stream",
     "text": [
      "Parsed with column specification:\n",
      "cols(\n",
      "  path = col_character()\n",
      ")\n"
     ]
    }
   ],
   "source": [
    "train_paths = read_csv('../data/MURA-v1.1/train_image_paths.csv', col_names = c('path'))"
   ]
  },
  {
   "cell_type": "code",
   "execution_count": 10,
   "metadata": {},
   "outputs": [
    {
     "data": {
      "text/html": [
       "<table>\n",
       "<thead><tr><th scope=col>path</th></tr></thead>\n",
       "<tbody>\n",
       "\t<tr><td>MURA-v1.1/train/XR_SHOULDER/patient00001/study1_positive/image1.png</td></tr>\n",
       "\t<tr><td>MURA-v1.1/train/XR_SHOULDER/patient00001/study1_positive/image2.png</td></tr>\n",
       "\t<tr><td>MURA-v1.1/train/XR_SHOULDER/patient00001/study1_positive/image3.png</td></tr>\n",
       "\t<tr><td>MURA-v1.1/train/XR_SHOULDER/patient00002/study1_positive/image1.png</td></tr>\n",
       "\t<tr><td>MURA-v1.1/train/XR_SHOULDER/patient00002/study1_positive/image2.png</td></tr>\n",
       "\t<tr><td>MURA-v1.1/train/XR_SHOULDER/patient00002/study1_positive/image3.png</td></tr>\n",
       "</tbody>\n",
       "</table>\n"
      ],
      "text/latex": [
       "\\begin{tabular}{r|l}\n",
       " path\\\\\n",
       "\\hline\n",
       "\t MURA-v1.1/train/XR\\_SHOULDER/patient00001/study1\\_positive/image1.png\\\\\n",
       "\t MURA-v1.1/train/XR\\_SHOULDER/patient00001/study1\\_positive/image2.png\\\\\n",
       "\t MURA-v1.1/train/XR\\_SHOULDER/patient00001/study1\\_positive/image3.png\\\\\n",
       "\t MURA-v1.1/train/XR\\_SHOULDER/patient00002/study1\\_positive/image1.png\\\\\n",
       "\t MURA-v1.1/train/XR\\_SHOULDER/patient00002/study1\\_positive/image2.png\\\\\n",
       "\t MURA-v1.1/train/XR\\_SHOULDER/patient00002/study1\\_positive/image3.png\\\\\n",
       "\\end{tabular}\n"
      ],
      "text/markdown": [
       "\n",
       "| path |\n",
       "|---|\n",
       "| MURA-v1.1/train/XR_SHOULDER/patient00001/study1_positive/image1.png |\n",
       "| MURA-v1.1/train/XR_SHOULDER/patient00001/study1_positive/image2.png |\n",
       "| MURA-v1.1/train/XR_SHOULDER/patient00001/study1_positive/image3.png |\n",
       "| MURA-v1.1/train/XR_SHOULDER/patient00002/study1_positive/image1.png |\n",
       "| MURA-v1.1/train/XR_SHOULDER/patient00002/study1_positive/image2.png |\n",
       "| MURA-v1.1/train/XR_SHOULDER/patient00002/study1_positive/image3.png |\n",
       "\n"
      ],
      "text/plain": [
       "  path                                                               \n",
       "1 MURA-v1.1/train/XR_SHOULDER/patient00001/study1_positive/image1.png\n",
       "2 MURA-v1.1/train/XR_SHOULDER/patient00001/study1_positive/image2.png\n",
       "3 MURA-v1.1/train/XR_SHOULDER/patient00001/study1_positive/image3.png\n",
       "4 MURA-v1.1/train/XR_SHOULDER/patient00002/study1_positive/image1.png\n",
       "5 MURA-v1.1/train/XR_SHOULDER/patient00002/study1_positive/image2.png\n",
       "6 MURA-v1.1/train/XR_SHOULDER/patient00002/study1_positive/image3.png"
      ]
     },
     "metadata": {},
     "output_type": "display_data"
    }
   ],
   "source": [
    "head(train_paths)"
   ]
  },
  {
   "cell_type": "code",
   "execution_count": 31,
   "metadata": {},
   "outputs": [],
   "source": [
    "n_images_per_part = 100\n",
    "\n",
    "n_images <- train_paths %>%\n",
    "    separate(path, into = c('mura', 'train', 'part', 'patient', 'study', 'img'), sep='/', remove=F) %>%\n",
    "    select(path, part) %>%\n",
    "    separate(part, into = c('XR', 'part')) %>%\n",
    "    select(-XR) %>%\n",
    "    group_by(part) %>%\n",
    "    filter(row_number() <= n_images_per_part) %>%\n",
    "    ungroup()"
   ]
  },
  {
   "cell_type": "code",
   "execution_count": 34,
   "metadata": {},
   "outputs": [],
   "source": [
    "write_csv(n_images, '../data/processed/n_images_for_part.csv')"
   ]
  },
  {
   "cell_type": "code",
   "execution_count": null,
   "metadata": {},
   "outputs": [],
   "source": []
  }
 ],
 "metadata": {
  "kernelspec": {
   "display_name": "R",
   "language": "R",
   "name": "ir"
  },
  "language_info": {
   "codemirror_mode": "r",
   "file_extension": ".r",
   "mimetype": "text/x-r-source",
   "name": "R",
   "pygments_lexer": "r",
   "version": "3.5.2"
  }
 },
 "nbformat": 4,
 "nbformat_minor": 2
}
