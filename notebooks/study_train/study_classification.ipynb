{
 "cells": [
  {
   "cell_type": "code",
   "execution_count": 80,
   "metadata": {},
   "outputs": [],
   "source": [
    "import numpy as np\n",
    "import pandas as pd\n",
    "from torch.utils import data\n",
    "import os\n",
    "import io\n",
    "from sklearn.preprocessing import LabelEncoder\n",
    "import cv2"
   ]
  },
  {
   "cell_type": "code",
   "execution_count": 84,
   "metadata": {},
   "outputs": [],
   "source": [
    "class MuraDataset(data.Dataset):\n",
    "    \"\"\"Face Landmarks dataset.\"\"\"\n",
    "\n",
    "    def __init__(self, csv_file, root_dir, transform=None, columns=[3, 4]):\n",
    "        \"\"\"\n",
    "        Args:\n",
    "            csv_file (string): Path to the csv file with annotations.\n",
    "            root_dir (string): Directory with all the images.\n",
    "            transform (callable, optional): Optional transform to be applied\n",
    "                on a sample.\n",
    "            columns (int array, optional): an array of length 2. first element\n",
    "                is the column that specifies path in the csv and second is\n",
    "                the result\n",
    "        \"\"\"\n",
    "        self.process_csv(csv_file, columns)\n",
    "        self.root_dir = root_dir\n",
    "        self.transform = transform\n",
    "        \n",
    "    def process_csv(self, file, columns):\n",
    "        # read and update\n",
    "        df = pd.read_csv(file)\n",
    "        df = df.iloc[:, columns]\n",
    "        df.columns = ['path', 'label']\n",
    "        \n",
    "        # encode labels\n",
    "        le = LabelEncoder()\n",
    "        df.label = le.fit_transform(df.label)\n",
    "        \n",
    "        # save\n",
    "        self.le = le\n",
    "        self.mura_frame = df\n",
    "\n",
    "    def __len__(self):\n",
    "        return len(self.mura_frame)\n",
    "\n",
    "    def __getitem__(self, idx):\n",
    "        img_name = os.path.join(self.root_dir,\n",
    "                                self.mura_frame.iloc[idx, 0])\n",
    "        img = cv2.imread(img_name)\n",
    "        #landmarks = self.landmarks_frame.iloc[idx, 1:].as_matrix()\n",
    "        #landmarks = landmarks.astype('float').reshape(-1, 2)\n",
    "        label = self.mura_frame.iloc[idx, 1]\n",
    "        \n",
    "        sample = {'image': img, 'label': label}\n",
    "\n",
    "        if self.transform:\n",
    "            sample = self.transform(sample)\n",
    "\n",
    "        return sample"
   ]
  },
  {
   "cell_type": "code",
   "execution_count": 85,
   "metadata": {},
   "outputs": [],
   "source": [
    "md = MuraDataset(csv_file='../../data/processed/train_all.csv',\n",
    "                 root_dir='../../data/')"
   ]
  },
  {
   "cell_type": "code",
   "execution_count": 86,
   "metadata": {},
   "outputs": [
    {
     "data": {
      "text/plain": [
       "{'image': array([[[23, 23, 23],\n",
       "         [26, 26, 26],\n",
       "         [11, 11, 11],\n",
       "         ...,\n",
       "         [ 8,  8,  8],\n",
       "         [ 8,  8,  8],\n",
       "         [ 9,  9,  9]],\n",
       " \n",
       "        [[25, 25, 25],\n",
       "         [ 9,  9,  9],\n",
       "         [ 7,  7,  7],\n",
       "         ...,\n",
       "         [ 7,  7,  7],\n",
       "         [ 7,  7,  7],\n",
       "         [ 7,  7,  7]],\n",
       " \n",
       "        [[ 8,  8,  8],\n",
       "         [ 6,  6,  6],\n",
       "         [ 8,  8,  8],\n",
       "         ...,\n",
       "         [ 6,  6,  6],\n",
       "         [ 6,  6,  6],\n",
       "         [ 7,  7,  7]],\n",
       " \n",
       "        ...,\n",
       " \n",
       "        [[ 8,  8,  8],\n",
       "         [ 8,  8,  8],\n",
       "         [ 9,  9,  9],\n",
       "         ...,\n",
       "         [ 4,  4,  4],\n",
       "         [ 4,  4,  4],\n",
       "         [ 4,  4,  4]],\n",
       " \n",
       "        [[ 7,  7,  7],\n",
       "         [ 8,  8,  8],\n",
       "         [ 8,  8,  8],\n",
       "         ...,\n",
       "         [ 4,  4,  4],\n",
       "         [ 4,  4,  4],\n",
       "         [ 4,  4,  4]],\n",
       " \n",
       "        [[ 8,  8,  8],\n",
       "         [ 7,  7,  7],\n",
       "         [ 7,  7,  7],\n",
       "         ...,\n",
       "         [ 3,  3,  3],\n",
       "         [ 3,  3,  3],\n",
       "         [ 3,  3,  3]]], dtype=uint8), 'label': 5}"
      ]
     },
     "execution_count": 86,
     "metadata": {},
     "output_type": "execute_result"
    }
   ],
   "source": [
    "md[0]"
   ]
  },
  {
   "cell_type": "code",
   "execution_count": null,
   "metadata": {},
   "outputs": [],
   "source": []
  }
 ],
 "metadata": {
  "kernelspec": {
   "display_name": "Python 3",
   "language": "python",
   "name": "python3"
  },
  "language_info": {
   "codemirror_mode": {
    "name": "ipython",
    "version": 3
   },
   "file_extension": ".py",
   "mimetype": "text/x-python",
   "name": "python",
   "nbconvert_exporter": "python",
   "pygments_lexer": "ipython3",
   "version": "3.7.1"
  }
 },
 "nbformat": 4,
 "nbformat_minor": 2
}
